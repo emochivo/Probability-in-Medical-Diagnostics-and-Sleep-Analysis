{
  "cells": [
    {
      "cell_type": "markdown",
      "metadata": {
        "id": "SH587dfmuYjX"
      },
      "source": [
        "## Probability in Medical Diagnostics and Sleep Analysis"
      ]
    },
    {
      "cell_type": "markdown",
      "metadata": {
        "id": "8aKO0R-axHFV"
      },
      "source": [
        "### Setup and Dataset Exploration\n",
        "\n",
        "**Step 1: Import Necessary Libraries**"
      ]
    },
    {
      "cell_type": "markdown",
      "metadata": {
        "id": "Fs2SxD42yrW6"
      },
      "source": [
        "# import necessary libraries"
      ]
    },
    {
      "cell_type": "code",
      "execution_count": null,
      "metadata": {
        "id": "xdYMpjg1txFu"
      },
      "outputs": [
        {
          "ename": "ModuleNotFoundError",
          "evalue": "No module named 'pandas'",
          "output_type": "error",
          "traceback": [
            "\u001b[31m---------------------------------------------------------------------------\u001b[39m",
            "\u001b[31mModuleNotFoundError\u001b[39m                       Traceback (most recent call last)",
            "\u001b[36mCell\u001b[39m\u001b[36m \u001b[39m\u001b[32mIn[4]\u001b[39m\u001b[32m, line 1\u001b[39m\n\u001b[32m----> \u001b[39m\u001b[32m1\u001b[39m \u001b[38;5;28;01mimport\u001b[39;00m\u001b[38;5;250m \u001b[39m\u001b[34;01mpandas\u001b[39;00m\u001b[38;5;250m \u001b[39m\u001b[38;5;28;01mas\u001b[39;00m\u001b[38;5;250m \u001b[39m\u001b[34;01mpd\u001b[39;00m\n\u001b[32m      2\u001b[39m \u001b[38;5;28;01mimport\u001b[39;00m\u001b[38;5;250m \u001b[39m\u001b[34;01mnumpy\u001b[39;00m\u001b[38;5;250m \u001b[39m\u001b[38;5;28;01mas\u001b[39;00m\u001b[38;5;250m \u001b[39m\u001b[34;01mnp\u001b[39;00m\n\u001b[32m      3\u001b[39m \u001b[38;5;28;01mimport\u001b[39;00m\u001b[38;5;250m \u001b[39m\u001b[34;01mmatplotlib\u001b[39;00m\u001b[34;01m.\u001b[39;00m\u001b[34;01mpyplot\u001b[39;00m\u001b[38;5;250m \u001b[39m\u001b[38;5;28;01mas\u001b[39;00m\u001b[38;5;250m \u001b[39m\u001b[34;01mplt\u001b[39;00m\n",
            "\u001b[31mModuleNotFoundError\u001b[39m: No module named 'pandas'"
          ]
        }
      ],
      "source": [
        "import pandas as pd\n",
        "import numpy as np\n",
        "import matplotlib.pyplot as plt\n",
        "import seaborn as sns\n",
        "from scipy.stats import bernoulli, binom, geom, hypergeom, poisson, ttest_ind"
      ]
    },
    {
      "cell_type": "markdown",
      "metadata": {
        "id": "8zKlkbsyyoVa"
      },
      "source": [
        "**Step 2: Load and Inspect the Dataset**"
      ]
    },
    {
      "cell_type": "code",
      "execution_count": 3,
      "metadata": {
        "id": "Q3ZGfCLhycjq"
      },
      "outputs": [
        {
          "ename": "NameError",
          "evalue": "name 'pd' is not defined",
          "output_type": "error",
          "traceback": [
            "\u001b[31m---------------------------------------------------------------------------\u001b[39m",
            "\u001b[31mNameError\u001b[39m                                 Traceback (most recent call last)",
            "\u001b[36mCell\u001b[39m\u001b[36m \u001b[39m\u001b[32mIn[3]\u001b[39m\u001b[32m, line 2\u001b[39m\n\u001b[32m      1\u001b[39m url = \u001b[33m'\u001b[39m\u001b[33m./Sleep_health_and_lifestyle_dataset.csv\u001b[39m\u001b[33m'\u001b[39m \u001b[38;5;66;03m# Replace with actual dataset URL\u001b[39;00m\n\u001b[32m----> \u001b[39m\u001b[32m2\u001b[39m df = \u001b[43mpd\u001b[49m.read_csv(url)\n",
            "\u001b[31mNameError\u001b[39m: name 'pd' is not defined"
          ]
        }
      ],
      "source": [
        "\n",
        "url = './Sleep_health_and_lifestyle_dataset.csv' # Replace with actual dataset URL\n",
        "df = pd.read_csv(url)"
      ]
    },
    {
      "cell_type": "markdown",
      "metadata": {
        "id": "b6LFYZ_8ymR0"
      },
      "source": [
        "Inspect dataset"
      ]
    },
    {
      "cell_type": "code",
      "execution_count": 2,
      "metadata": {
        "colab": {
          "base_uri": "https://localhost:8080/",
          "height": 159
        },
        "id": "prEWUCp5yae_",
        "outputId": "45e99ca7-da80-4376-ced6-5042187ec575"
      },
      "outputs": [
        {
          "ename": "NameError",
          "evalue": "name 'df' is not defined",
          "output_type": "error",
          "traceback": [
            "\u001b[31m---------------------------------------------------------------------------\u001b[39m",
            "\u001b[31mNameError\u001b[39m                                 Traceback (most recent call last)",
            "\u001b[36mCell\u001b[39m\u001b[36m \u001b[39m\u001b[32mIn[2]\u001b[39m\u001b[32m, line 1\u001b[39m\n\u001b[32m----> \u001b[39m\u001b[32m1\u001b[39m \u001b[38;5;28mprint\u001b[39m(\u001b[43mdf\u001b[49m.head())\n\u001b[32m      2\u001b[39m \u001b[38;5;28mprint\u001b[39m(df.info())\n",
            "\u001b[31mNameError\u001b[39m: name 'df' is not defined"
          ]
        }
      ],
      "source": [
        "print(df.head())\n",
        "print(df.info())"
      ]
    },
    {
      "cell_type": "markdown",
      "metadata": {
        "id": "y4kkWnuNyvjp"
      },
      "source": [
        "Handle missing values\n",
        "df = df.dropna() # Example: dropping rows with missing values"
      ]
    },
    {
      "cell_type": "markdown",
      "metadata": {
        "id": "q5aQ_nbey8cd"
      },
      "source": [
        "### Part 1: Probability Distributions (Your Implementation)\n"
      ]
    },
    {
      "cell_type": "markdown",
      "metadata": {
        "id": "T1tejyVhIrKn"
      },
      "source": [
        "**Task 1: Bernoulli and Binomial Models**\n",
        "- Define a binary outcome for good sleep quality (Quality ≥8).\n",
        "- Conduct Bernoulli trials and use the Binomial distribution."
      ]
    },
    {
      "cell_type": "code",
      "execution_count": null,
      "metadata": {
        "id": "do8YWw1ayvRk"
      },
      "outputs": [],
      "source": [
        "# Your Implementation Here\n"
      ]
    },
    {
      "cell_type": "markdown",
      "metadata": {
        "id": "Bfdwdll1zD9h"
      },
      "source": [
        "**Task 2: Geometric Distribution**\n",
        "- Calculate the number of trials until you first observe poor sleep quality (Quality ≤4)."
      ]
    },
    {
      "cell_type": "code",
      "execution_count": null,
      "metadata": {
        "id": "wXRQpbjHzHpK"
      },
      "outputs": [],
      "source": [
        "# Your Implementation Here\n"
      ]
    },
    {
      "cell_type": "markdown",
      "metadata": {
        "id": "W4Anxyy7zI-Y"
      },
      "source": [
        "**Task 3: Hypergeometric Distribution**\n",
        "- Perform hypergeometric sampling for a subgroup (e.g., high stress individuals)."
      ]
    },
    {
      "cell_type": "code",
      "execution_count": null,
      "metadata": {
        "id": "UXtZXhPPzKYe"
      },
      "outputs": [],
      "source": [
        "# Your Implementation Here"
      ]
    },
    {
      "cell_type": "markdown",
      "metadata": {
        "id": "mpJZsy5HzM3d"
      },
      "source": [
        "**Task 4: Poisson Distribution**\n",
        "- Simulate the weekly occurrence of poor sleep quality cases."
      ]
    },
    {
      "cell_type": "code",
      "execution_count": null,
      "metadata": {
        "id": "Qp_n7WEVzOl1"
      },
      "outputs": [],
      "source": [
        "# Your Implementation Here"
      ]
    },
    {
      "cell_type": "markdown",
      "metadata": {
        "id": "U7k0ZsthzR9T"
      },
      "source": [
        "### Part 2: Bayesian Inference (Your Implementation)\n",
        "- Update the probability of good sleep quality based on new evidence (e.g., low stress levels).\n"
      ]
    },
    {
      "cell_type": "code",
      "execution_count": null,
      "metadata": {
        "id": "Xl2GlKRGzSkF"
      },
      "outputs": [],
      "source": [
        "# Provided Bayesian Function\n",
        "def bayes(prior, likelihood, evidence):\n",
        "    return (likelihood * prior) / evidence\n",
        "\n",
        "# Your Implementation Here"
      ]
    },
    {
      "cell_type": "markdown",
      "metadata": {
        "id": "OLaizgCOzT-d"
      },
      "source": [
        "### Part 3: Hypothesis Testing (Your Implementation)\n",
        "- Conduct hypothesis testing to compare groups (e.g., low vs high stress levels) in terms of sleep quality.\n"
      ]
    },
    {
      "cell_type": "code",
      "execution_count": null,
      "metadata": {
        "id": "5ZP4DrAmzbkG"
      },
      "outputs": [],
      "source": [
        "# Your Implementation Here"
      ]
    },
    {
      "cell_type": "markdown",
      "metadata": {
        "id": "twcQpvr4zgmJ"
      },
      "source": [
        "### Part 4: Visualization\n"
      ]
    },
    {
      "cell_type": "markdown",
      "metadata": {
        "id": "uuZXpoMpzlrL"
      },
      "source": [
        "**Histogram of Sleep Duration**\n"
      ]
    },
    {
      "cell_type": "code",
      "execution_count": null,
      "metadata": {
        "id": "l5NP722xzju6"
      },
      "outputs": [],
      "source": [
        "plt.figure(figsize=(8, 6))\n",
        "sns.histplot(df['Sleep Duration'], bins=10, kde=True)\n",
        "plt.title('Distribution of Sleep Duration')\n",
        "plt.xlabel('Hours')\n",
        "plt.ylabel('Frequency')\n",
        "plt.show()"
      ]
    },
    {
      "cell_type": "markdown",
      "metadata": {
        "id": "ndz_aVQJzpO2"
      },
      "source": [
        "**Scatter Plot of Physical Activity vs. Sleep Quality**\n"
      ]
    },
    {
      "cell_type": "code",
      "execution_count": null,
      "metadata": {
        "id": "65Yd4uAKzrL1"
      },
      "outputs": [],
      "source": [
        "plt.figure(figsize=(8, 6))\n",
        "sns.scatterplot(x='Physical Activity Level', y='Quality of Sleep', data=df)\n",
        "plt.title('Physical Activity vs Sleep Quality')\n",
        "plt.xlabel('Physical Activity Level')\n",
        "plt.ylabel('Quality of Sleep')\n",
        "plt.show()"
      ]
    },
    {
      "cell_type": "markdown",
      "metadata": {
        "id": "XpPaEpEAzzNs"
      },
      "source": [
        "\n",
        "---\n",
        "\n",
        "### **Submission Guidelines**\n",
        "1. Submit your completed notebook (.ipynb file) with all code cells executed.\n",
        "2. Ensure all markdown cells explain your steps clearly.\n",
        "3. Include visualizations embedded within the notebook.\n",
        "\n",
        "---\n",
        "\n",
        "### Grading Criteria:\n",
        "- Correct implementation of probability models (30 points).\n",
        "- Accurate Bayesian inference calculations (20 points).\n",
        "- Proper hypothesis testing with statistical significance (20 points).\n",
        "- Quality of visualizations (20 points).\n",
        "- Documentation and clarity within the notebook (10 points).\n",
        "\n",
        "---\n"
      ]
    }
  ],
  "metadata": {
    "colab": {
      "provenance": []
    },
    "kernelspec": {
      "display_name": ".venv",
      "language": "python",
      "name": "python3"
    },
    "language_info": {
      "codemirror_mode": {
        "name": "ipython",
        "version": 3
      },
      "file_extension": ".py",
      "mimetype": "text/x-python",
      "name": "python",
      "nbconvert_exporter": "python",
      "pygments_lexer": "ipython3",
      "version": "3.12.0"
    }
  },
  "nbformat": 4,
  "nbformat_minor": 0
}
