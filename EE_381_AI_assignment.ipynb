{
  "nbformat": 4,
  "nbformat_minor": 0,
  "metadata": {
    "colab": {
      "provenance": []
    },
    "kernelspec": {
      "name": "python3",
      "display_name": "Python 3"
    },
    "language_info": {
      "name": "python"
    }
  },
  "cells": [
    {
      "cell_type": "markdown",
      "source": [
        "## Probability in Medical Diagnostics and Sleep Analysis"
      ],
      "metadata": {
        "id": "SH587dfmuYjX"
      }
    },
    {
      "cell_type": "markdown",
      "source": [
        "### Setup and Dataset Exploration\n",
        "\n",
        "**Step 1: Import Necessary Libraries**"
      ],
      "metadata": {
        "id": "8aKO0R-axHFV"
      }
    },
    {
      "cell_type": "markdown",
      "source": [
        "# import necessary libraries"
      ],
      "metadata": {
        "id": "Fs2SxD42yrW6"
      }
    },
    {
      "cell_type": "code",
      "execution_count": null,
      "metadata": {
        "id": "xdYMpjg1txFu"
      },
      "outputs": [],
      "source": [
        "import pandas as pd\n",
        "import numpy as np\n",
        "import matplotlib.pyplot as plt\n",
        "import seaborn as sns\n",
        "from scipy.stats import bernoulli, binom, geom, hypergeom, poisson, ttest_ind"
      ]
    },
    {
      "cell_type": "markdown",
      "source": [
        "**Step 2: Load and Inspect the Dataset**"
      ],
      "metadata": {
        "id": "8zKlkbsyyoVa"
      }
    },
    {
      "cell_type": "code",
      "source": [
        "\n",
        "url = './sleep_health_dataset.csv' # Replace with actual dataset URL\n",
        "df = pd.read_csv(url)"
      ],
      "metadata": {
        "id": "Q3ZGfCLhycjq"
      },
      "execution_count": null,
      "outputs": []
    },
    {
      "cell_type": "markdown",
      "source": [
        "Inspect dataset"
      ],
      "metadata": {
        "id": "b6LFYZ_8ymR0"
      }
    },
    {
      "cell_type": "code",
      "source": [
        "print(df.head())\n",
        "print(df.info())"
      ],
      "metadata": {
        "colab": {
          "base_uri": "https://localhost:8080/",
          "height": 159
        },
        "id": "prEWUCp5yae_",
        "outputId": "45e99ca7-da80-4376-ced6-5042187ec575"
      },
      "execution_count": null,
      "outputs": [
        {
          "output_type": "error",
          "ename": "NameError",
          "evalue": "name 'df' is not defined",
          "traceback": [
            "\u001b[0;31m---------------------------------------------------------------------------\u001b[0m",
            "\u001b[0;31mNameError\u001b[0m                                 Traceback (most recent call last)",
            "\u001b[0;32m<ipython-input-2-e829857f4b52>\u001b[0m in \u001b[0;36m<cell line: 0>\u001b[0;34m()\u001b[0m\n\u001b[0;32m----> 1\u001b[0;31m \u001b[0mprint\u001b[0m\u001b[0;34m(\u001b[0m\u001b[0mdf\u001b[0m\u001b[0;34m.\u001b[0m\u001b[0mhead\u001b[0m\u001b[0;34m(\u001b[0m\u001b[0;34m)\u001b[0m\u001b[0;34m)\u001b[0m\u001b[0;34m\u001b[0m\u001b[0;34m\u001b[0m\u001b[0m\n\u001b[0m\u001b[1;32m      2\u001b[0m \u001b[0mprint\u001b[0m\u001b[0;34m(\u001b[0m\u001b[0mdf\u001b[0m\u001b[0;34m.\u001b[0m\u001b[0minfo\u001b[0m\u001b[0;34m(\u001b[0m\u001b[0;34m)\u001b[0m\u001b[0;34m)\u001b[0m\u001b[0;34m\u001b[0m\u001b[0;34m\u001b[0m\u001b[0m\n",
            "\u001b[0;31mNameError\u001b[0m: name 'df' is not defined"
          ]
        }
      ]
    },
    {
      "cell_type": "markdown",
      "source": [
        "Handle missing values\n",
        "df = df.dropna() # Example: dropping rows with missing values"
      ],
      "metadata": {
        "id": "y4kkWnuNyvjp"
      }
    },
    {
      "cell_type": "markdown",
      "source": [
        "### Part 1: Probability Distributions (Your Implementation)\n"
      ],
      "metadata": {
        "id": "q5aQ_nbey8cd"
      }
    },
    {
      "cell_type": "markdown",
      "source": [
        "**Task 1: Bernoulli and Binomial Models**\n",
        "- Define a binary outcome for good sleep quality (Quality ≥8).\n",
        "- Conduct Bernoulli trials and use the Binomial distribution."
      ],
      "metadata": {
        "id": "T1tejyVhIrKn"
      }
    },
    {
      "cell_type": "code",
      "source": [
        "# Your Implementation Here\n"
      ],
      "metadata": {
        "id": "do8YWw1ayvRk"
      },
      "execution_count": null,
      "outputs": []
    },
    {
      "cell_type": "markdown",
      "source": [
        "**Task 2: Geometric Distribution**\n",
        "- Calculate the number of trials until you first observe poor sleep quality (Quality ≤4)."
      ],
      "metadata": {
        "id": "Bfdwdll1zD9h"
      }
    },
    {
      "cell_type": "code",
      "source": [
        "# Your Implementation Here\n"
      ],
      "metadata": {
        "id": "wXRQpbjHzHpK"
      },
      "execution_count": null,
      "outputs": []
    },
    {
      "cell_type": "markdown",
      "source": [
        "**Task 3: Hypergeometric Distribution**\n",
        "- Perform hypergeometric sampling for a subgroup (e.g., high stress individuals)."
      ],
      "metadata": {
        "id": "W4Anxyy7zI-Y"
      }
    },
    {
      "cell_type": "code",
      "source": [
        "# Your Implementation Here"
      ],
      "metadata": {
        "id": "UXtZXhPPzKYe"
      },
      "execution_count": null,
      "outputs": []
    },
    {
      "cell_type": "markdown",
      "source": [
        "**Task 4: Poisson Distribution**\n",
        "- Simulate the weekly occurrence of poor sleep quality cases."
      ],
      "metadata": {
        "id": "mpJZsy5HzM3d"
      }
    },
    {
      "cell_type": "code",
      "source": [
        "# Your Implementation Here"
      ],
      "metadata": {
        "id": "Qp_n7WEVzOl1"
      },
      "execution_count": null,
      "outputs": []
    },
    {
      "cell_type": "markdown",
      "source": [
        "### Part 2: Bayesian Inference (Your Implementation)\n",
        "- Update the probability of good sleep quality based on new evidence (e.g., low stress levels).\n"
      ],
      "metadata": {
        "id": "U7k0ZsthzR9T"
      }
    },
    {
      "cell_type": "code",
      "source": [
        "# Provided Bayesian Function\n",
        "def bayes(prior, likelihood, evidence):\n",
        "    return (likelihood * prior) / evidence\n",
        "\n",
        "# Your Implementation Here"
      ],
      "metadata": {
        "id": "Xl2GlKRGzSkF"
      },
      "execution_count": null,
      "outputs": []
    },
    {
      "cell_type": "markdown",
      "source": [
        "### Part 3: Hypothesis Testing (Your Implementation)\n",
        "- Conduct hypothesis testing to compare groups (e.g., low vs high stress levels) in terms of sleep quality.\n"
      ],
      "metadata": {
        "id": "OLaizgCOzT-d"
      }
    },
    {
      "cell_type": "code",
      "source": [
        "# Your Implementation Here"
      ],
      "metadata": {
        "id": "5ZP4DrAmzbkG"
      },
      "execution_count": null,
      "outputs": []
    },
    {
      "cell_type": "markdown",
      "source": [
        "### Part 4: Visualization\n"
      ],
      "metadata": {
        "id": "twcQpvr4zgmJ"
      }
    },
    {
      "cell_type": "markdown",
      "source": [
        "**Histogram of Sleep Duration**\n"
      ],
      "metadata": {
        "id": "uuZXpoMpzlrL"
      }
    },
    {
      "cell_type": "code",
      "source": [
        "plt.figure(figsize=(8, 6))\n",
        "sns.histplot(df['Sleep Duration'], bins=10, kde=True)\n",
        "plt.title('Distribution of Sleep Duration')\n",
        "plt.xlabel('Hours')\n",
        "plt.ylabel('Frequency')\n",
        "plt.show()"
      ],
      "metadata": {
        "id": "l5NP722xzju6"
      },
      "execution_count": null,
      "outputs": []
    },
    {
      "cell_type": "markdown",
      "source": [
        "**Scatter Plot of Physical Activity vs. Sleep Quality**\n"
      ],
      "metadata": {
        "id": "ndz_aVQJzpO2"
      }
    },
    {
      "cell_type": "code",
      "source": [
        "plt.figure(figsize=(8, 6))\n",
        "sns.scatterplot(x='Physical Activity Level', y='Quality of Sleep', data=df)\n",
        "plt.title('Physical Activity vs Sleep Quality')\n",
        "plt.xlabel('Physical Activity Level')\n",
        "plt.ylabel('Quality of Sleep')\n",
        "plt.show()"
      ],
      "metadata": {
        "id": "65Yd4uAKzrL1"
      },
      "execution_count": null,
      "outputs": []
    },
    {
      "cell_type": "markdown",
      "source": [
        "\n",
        "---\n",
        "\n",
        "### **Submission Guidelines**\n",
        "1. Submit your completed notebook (.ipynb file) with all code cells executed.\n",
        "2. Ensure all markdown cells explain your steps clearly.\n",
        "3. Include visualizations embedded within the notebook.\n",
        "\n",
        "---\n",
        "\n",
        "### Grading Criteria:\n",
        "- Correct implementation of probability models (30 points).\n",
        "- Accurate Bayesian inference calculations (20 points).\n",
        "- Proper hypothesis testing with statistical significance (20 points).\n",
        "- Quality of visualizations (20 points).\n",
        "- Documentation and clarity within the notebook (10 points).\n",
        "\n",
        "---\n"
      ],
      "metadata": {
        "id": "XpPaEpEAzzNs"
      }
    }
  ]
}